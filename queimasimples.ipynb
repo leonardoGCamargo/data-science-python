{
 "cells": [
  {
   "cell_type": "code",
   "execution_count": 4,
   "metadata": {},
   "outputs": [
    {
     "name": "stdout",
     "output_type": "stream",
     "text": [
      "Quantidade de mols de CO2 3.507\n",
      "Quantidade de mols de H20 4.507\n",
      "Quantidade de mols de SO2 0.0218\n",
      "Quantidade de x 4.3223\n",
      "Quantidade de mols de N2 16.274697999999997\n",
      "Kmol Ar estequiometrico por segundo 20.5741\n",
      "Kg de Ar estequiometrico por segundo = 593.3653\n",
      "Kg de Ar/(100kgcomb) 5.9336530000000005\n",
      "Razao  estequiometrica  combustivel/ar 0.0486\n",
      "Razao  estequiometrica  ar/combustivel 20.5741\n",
      "Ncomb =1.0 kmols\n",
      "Nar =20.5741 kmols\n",
      "fi (Relacao de equivalencia combustivel/ar) = 1.0000987497505502\n",
      "ar teorico (Relacao de equivalencia ar/combustivel) = 100.0%\n",
      "combustao rica em combustivel falta oxidante\n",
      "combustao estequiometrica\n",
      "Não existe excesso de ar.\n"
     ]
    }
   ],
   "source": [
    "# Massas molares dos elementos (em g/mol)\n",
    "massa_molar_H = 1\n",
    "massa_molar_O = 16\n",
    "massa_molar_N = 14\n",
    "massa_molar_C = 12\n",
    "massa_molar_S = 32\n",
    "# indice da quantidade dos elementos\n",
    "\n",
    "ii = 2.92  # Quantidade de O\n",
    "iii = 0.0457  # Quantidade de N\n",
    "iv = 3.507  # Quantidade de C\n",
    "i = ((2*iv) +2)  # Quantidade de H\n",
    "v= 0.0218 # Quantidade de S\n",
    "# Calcula a massa molar do composto\n",
    "z = iv\n",
    "y = i*0.5 \n",
    "u = v\n",
    "x = (z) + (y*0.5) + (u) - (ii/2)\n",
    "w = ((iii*0.5) + (x*3.76))\n",
    "print(f\"Quantidade de mols de CO2 {z}\")\n",
    "print(f\"Quantidade de mols de H20 {y}\")\n",
    "print(f\"Quantidade de mols de SO2 {u}\")\n",
    "print(f\"Quantidade de x {x}\")\n",
    "print(f\"Quantidade de mols de N2 {w}\")\n",
    "#Mols e Massa de ar necessária\n",
    "A= i+ii+iii+iv+v\n",
    "Am= i*massa_molar_H + ii*massa_molar_O + iii*massa_molar_N + iv*massa_molar_C + v*massa_molar_S\n",
    "B= float(input('coloque o valor de mols de combustivel'))\n",
    "Rca_est= round(((B)/(x*(4.76))),4) # relacao estequiometrica combustivel/ar\n",
    "Rac_est= round(((x*(4.76))/(B)),4) # relacao estequiometrica ar/combustivel\n",
    "KmolAr= round(x*(1+3.76),4)\n",
    "KgAR= round(x*((1*32)+(3.76*28)),4)\n",
    "print(f\"Kmol Ar estequiometrico por segundo {KmolAr}\")\n",
    "print(f\"Kg de Ar estequiometrico por segundo = {KgAR}\")\n",
    "print(f\"Kg de Ar/(100kgcomb) {KgAR/100}\")\n",
    "print(f\"Razao  estequiometrica  combustivel/ar {Rca_est}\")\n",
    "print(f\"Razao  estequiometrica  ar/combustivel {Rac_est}\")\n",
    "def pergunte():\n",
    "    while True:\n",
    "        escolha = input(\"Você quer calcular a relação de equivalência em mols ou em massa? (digite 'mols' ou 'massa'): \")\n",
    "\n",
    "        if escolha == 'mols':\n",
    "            Nar = float(input(\"kmols de ar utilizados \"))\n",
    "            fi_comb_ar = ((B/Nar)/(Rca_est))\n",
    "            fi_ar_comb = ((Nar/B)/(Rac_est))\n",
    "            print(f\"Ncomb ={B} kmols\")\n",
    "            print(f\"Nar ={Nar} kmols\")\n",
    "            break\n",
    "\n",
    "        elif escolha == 'massa':\n",
    "            Mar= float(input(\"Kg de ar utilizados \"))\n",
    "            Mcomb= float(input(\"Kg de combustivel utilizados\"))\n",
    "            Rca_est_m= ((Am)/(x*(32+(3.76*28))))\n",
    "            fi_comb_ar = ((Mcomb/Mar)/(Rca_est_m))\n",
    "            Rac_est_m= ((Am)/(x*(32+(3.76*28))))**-1\n",
    "            fi_ar_comb = ((Mar/Mcomb)/(Rac_est_m))\n",
    "            print(f\"Mcomb ={Mcomb} Kg\")\n",
    "            print(f\"Mar ={Mar} Kg\")\n",
    "            break\n",
    "\n",
    "        else:\n",
    "            print(\"Escolha inválida. Tente novamente.\")\n",
    "\n",
    "    return fi_comb_ar, fi_ar_comb\n",
    "\n",
    "fi_comb_ar, fi_ar_comb = pergunte()\n",
    "\n",
    "print(f\"fi (Relacao de equivalencia combustivel/ar) = {fi_comb_ar}\")\n",
    "print(f\"ar teorico (Relacao de equivalencia ar/combustivel) = {fi_ar_comb*100}%\")\n",
    "\n",
    "for fi in [fi_comb_ar, fi_ar_comb]:\n",
    "    if fi == 1:\n",
    "        print(f\"combustao estequiometrica\")\n",
    "    elif fi < 1:        \n",
    "        print(f\"combustao pobre em combustivel excesso de oxidante(ar)\")\n",
    "    else:\n",
    "        print(f\"combustao rica em combustivel falta oxidante\")\n",
    "exAr = ((1-fi_comb_ar)/fi_comb_ar)\n",
    "ExAr = fi_ar_comb-1\n",
    "if (exAr)>0:\n",
    "    print(f\"excesso de ar = {exAr*100}%\")\n",
    "    print(f\"excesso de ar = {ExAr*100}%\")\n",
    "else:\n",
    "    print(\"Não existe excesso de ar.\")"
   ]
  },
  {
   "cell_type": "markdown",
   "metadata": {},
   "source": [
    "melhorar a relação de escolha de  mol de combustivel"
   ]
  },
  {
   "cell_type": "code",
   "execution_count": 8,
   "metadata": {},
   "outputs": [
    {
     "name": "stdout",
     "output_type": "stream",
     "text": [
      "8\n",
      "9.0\n",
      "75.19999999999999\n",
      "7.5\n",
      "95.19999999999999 24.084210526315786\n"
     ]
    }
   ],
   "source": [
    "molAR= 20 #kmol\n",
    "molcomb= 1 #kmol\n",
    "# comb C8H18\n",
    "# c8h18 + 20( O2+ 3.76N2) >> x CO2 + y H2O + W N2 + Z O2\n",
    "X = iv\n",
    "Y = i*0.5\n",
    "W = molAR*3.76\n",
    "Z = molAR - X -(Y*0.5)\n",
    "print(X)\n",
    "print(Y)\n",
    "print(W)\n",
    "print(Z)\n",
    "Racmol= molAR*4.76/molcomb\n",
    "Racmassa = ((molAR*32+(molAR*3.76*28))/(molcomb*Am))\n",
    "print(Racmol,Racmassa)\n"
   ]
  },
  {
   "cell_type": "code",
   "execution_count": null,
   "metadata": {},
   "outputs": [],
   "source": []
  }
 ],
 "metadata": {
  "kernelspec": {
   "display_name": "DataC",
   "language": "python",
   "name": "python3"
  },
  "language_info": {
   "codemirror_mode": {
    "name": "ipython",
    "version": 3
   },
   "file_extension": ".py",
   "mimetype": "text/x-python",
   "name": "python",
   "nbconvert_exporter": "python",
   "pygments_lexer": "ipython3",
   "version": "3.12.0"
  }
 },
 "nbformat": 4,
 "nbformat_minor": 2
}
