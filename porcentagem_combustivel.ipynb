{
 "cells": [
  {
   "cell_type": "code",
   "execution_count": 3,
   "metadata": {},
   "outputs": [
    {
     "name": "stdout",
     "output_type": "stream",
     "text": [
      "Razão molar de C no combustível: 3.5075000000000003 kmol/kg\n",
      "Razão molar de H no combustível: 5.31 kmol/kg\n",
      "Razão molar de O no combustível: 2.92125 kmol/kg\n",
      "Razão molar de N no combustível: 0.045714285714285714 kmol/kg\n",
      "Razão molar de S no combustível: 0.021875 kmol/kg\n",
      "Razão razão molar de C no combustível: 0.2951288563058137 \n",
      "Razão razão molar de H no combustível: 0.44679521795691246 \n",
      "Razão razão molar de O no combustível: 0.24580047654550483 \n",
      "Razão razão molar de N no combustível: 0.0038465017418943233 \n",
      "Razão razão molar de S no combustível: 0.0018406111850861506 \n"
     ]
    }
   ],
   "source": [
    "# Massas molares dos elementos (em g/mol)\n",
    "massa_molar_H = 1\n",
    "massa_molar_O = 16\n",
    "massa_molar_N = 14\n",
    "massa_molar_C = 12\n",
    "massa_molar_S = 32\n",
    "# Composição do combustível (em porcentagem)\n",
    "percent_C = 42.09\n",
    "percent_H = 5.31\n",
    "percent_O = 46.74\n",
    "percent_N = 0.64\n",
    "percent_S = 0.7\n",
    "# Calcular a razão molar dos elementos em 100 kg combustível\n",
    "ratio_C = percent_C / massa_molar_C #   % * (%/kg/kmol)=kmol/kg\n",
    "ratio_H = percent_H / massa_molar_H\n",
    "ratio_O = percent_O / massa_molar_O\n",
    "ratio_N = percent_N / massa_molar_N\n",
    "ratio_S = percent_S / massa_molar_S\n",
    "ratioall= ratio_C+ratio_S+ratio_H+ratio_N+ratio_O+(7.83/100)\n",
    "# Calcular a  razão molar dos elementos no combustível\n",
    "ratio_Cm = ratio_C/ratioall \n",
    "ratio_Hm = ratio_H/ratioall\n",
    "ratio_Om = ratio_O/ratioall\n",
    "ratio_Nm = ratio_N/ratioall\n",
    "ratio_Sm = ratio_S/ratioall\n",
    "\n",
    "# Exibir os resultados\n",
    "print(f\"Razão molar de C no combustível: {ratio_C} kmol/kg\")\n",
    "print(f\"Razão molar de H no combustível: {ratio_H} kmol/kg\")\n",
    "print(f\"Razão molar de O no combustível: {ratio_O} kmol/kg\")\n",
    "print(f\"Razão molar de N no combustível: {ratio_N} kmol/kg\")\n",
    "print(f\"Razão molar de S no combustível: {ratio_S} kmol/kg\")\n",
    "\n",
    "print(f\"Razão razão molar de C no combustível: {ratio_Cm} \")\n",
    "print(f\"Razão razão molar de H no combustível: {ratio_Hm} \")\n",
    "print(f\"Razão razão molar de O no combustível: {ratio_Om} \")\n",
    "print(f\"Razão razão molar de N no combustível: {ratio_Nm} \")\n",
    "print(f\"Razão razão molar de S no combustível: {ratio_Sm} \")\n",
    "################################"
   ]
  },
  {
   "cell_type": "code",
   "execution_count": 2,
   "metadata": {},
   "outputs": [
    {
     "name": "stdout",
     "output_type": "stream",
     "text": [
      "Massa molar do composto: 95.48 g/mol\n",
      "quantidade de kmol em 1 kg do composto: 0.010473397570171763 kmol/kg\n",
      "Massa molar do composto: 95480.0 g/kmol\n",
      "Massa molar do composto: 0.09548000000000001 kg/mol\n",
      "quantidade de mol em 1 kg do composto: 10.473397570171763 mol/kg\n"
     ]
    }
   ],
   "source": [
    "# Adaptacao para pegar os ultimos dados\n",
    "# indice da quantidade dos elementos\n",
    "i = ratio_H  # Quantidade de H\n",
    "ii = ratio_O  # Quantidade de O\n",
    "iii = ratio_N  # Quantidade de N\n",
    "iv = ratio_C  # Quantidade de C\n",
    "v= ratio_S # Quantidade de S\n",
    "\n",
    "# Calcula a massa molar do composto\n",
    "Am= i*massa_molar_H + ii*massa_molar_O + iii*massa_molar_N + iv*massa_molar_C + v*massa_molar_S\n",
    "# Calcula a quantidade de g em 1 kmol\n",
    "gramas_em_1_kmol = Am *1000/1  \n",
    "\n",
    "# Calcula a quantidade de kg em 1 mol\n",
    "kgramas_em_1_mol = Am *(1/1000)   \n",
    "\n",
    "# Calcula a quantidade de mol em 1 kg\n",
    "mol_em_1_kg = 1/kgramas_em_1_mol  # kg/mol ^(-1) >> mol/kg \n",
    "\n",
    "# Calcula a quantidade de kmol em 1 kg\n",
    "kmol_em_1_kg = 1/Am  # kg/kmol ^(-1) >> kmol/kg\n",
    "\n",
    "\n",
    "# Exibe os resultados\n",
    "print(f\"Massa molar do composto: {Am} g/mol\")\n",
    "print(f\"quantidade de kmol em 1 kg do composto: {kmol_em_1_kg} kmol/kg\")\n",
    "print(f\"Massa molar do composto: {gramas_em_1_kmol} g/kmol\")\n",
    "print(f\"Massa molar do composto: {kgramas_em_1_mol} kg/mol\")\n",
    "print(f\"quantidade de mol em 1 kg do composto: {mol_em_1_kg} mol/kg\")"
   ]
  },
  {
   "cell_type": "markdown",
   "metadata": {},
   "source": [
    " Reacao de combustao\n",
    "\n",
    " iv *C + i *H + ii *O + iii *N + v *S + x *(O*2+3.76*N*2) = z *CO2 + y *H2O + w *N2 + u *SO2\n",
    "\n",
    " z = iv\n",
    "\n",
    " y = i*0.5 \n",
    "\n",
    " u = v \n",
    "\n",
    " w = ((iii*0.5) + (x*3.76))\n",
    " \n",
    " x = (z) + (y*0.5) + (u) - (ii/2)"
   ]
  },
  {
   "cell_type": "code",
   "execution_count": null,
   "metadata": {},
   "outputs": [],
   "source": []
  }
 ],
 "metadata": {
  "kernelspec": {
   "display_name": "DataC",
   "language": "python",
   "name": "python3"
  },
  "language_info": {
   "codemirror_mode": {
    "name": "ipython",
    "version": 3
   },
   "file_extension": ".py",
   "mimetype": "text/x-python",
   "name": "python",
   "nbconvert_exporter": "python",
   "pygments_lexer": "ipython3",
   "version": "3.12.0"
  }
 },
 "nbformat": 4,
 "nbformat_minor": 2
}
